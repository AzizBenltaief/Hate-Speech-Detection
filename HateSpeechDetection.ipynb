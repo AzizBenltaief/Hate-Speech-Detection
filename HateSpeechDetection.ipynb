{
 "cells": [
  {
   "metadata": {},
   "cell_type": "markdown",
   "source": "# Hate Speech Detection using LSTM",
   "id": "dd67356d50018af4"
  },
  {
   "cell_type": "code",
   "id": "initial_id",
   "metadata": {
    "collapsed": true,
    "ExecuteTime": {
     "end_time": "2025-10-14T15:38:44.189628Z",
     "start_time": "2025-10-14T15:38:42.936928Z"
    }
   },
   "source": [
    "import pandas as pd\n",
    "import spacy\n",
    "from tensorflow.keras.preprocessing.text import one_hot\n",
    "from tensorflow.keras.preprocessing.sequence import pad_sequences\n",
    "import numpy as np\n",
    "from imblearn.over_sampling import SMOTE"
   ],
   "outputs": [],
   "execution_count": 48
  },
  {
   "metadata": {
    "ExecuteTime": {
     "end_time": "2025-10-14T14:51:50.526240Z",
     "start_time": "2025-10-14T14:51:50.463224Z"
    }
   },
   "cell_type": "code",
   "source": [
    "df = pd.read_csv('labeled_data.csv')\n",
    "df.head()"
   ],
   "id": "2c6050714cfff33c",
   "outputs": [
    {
     "data": {
      "text/plain": [
       "   Unnamed: 0  count  hate_speech  offensive_language  neither  class  \\\n",
       "0           0      3            0                   0        3      2   \n",
       "1           1      3            0                   3        0      1   \n",
       "2           2      3            0                   3        0      1   \n",
       "3           3      3            0                   2        1      1   \n",
       "4           4      6            0                   6        0      1   \n",
       "\n",
       "                                               tweet  \n",
       "0  !!! RT @mayasolovely: As a woman you shouldn't...  \n",
       "1  !!!!! RT @mleew17: boy dats cold...tyga dwn ba...  \n",
       "2  !!!!!!! RT @UrKindOfBrand Dawg!!!! RT @80sbaby...  \n",
       "3  !!!!!!!!! RT @C_G_Anderson: @viva_based she lo...  \n",
       "4  !!!!!!!!!!!!! RT @ShenikaRoberts: The shit you...  "
      ],
      "text/html": [
       "<div>\n",
       "<style scoped>\n",
       "    .dataframe tbody tr th:only-of-type {\n",
       "        vertical-align: middle;\n",
       "    }\n",
       "\n",
       "    .dataframe tbody tr th {\n",
       "        vertical-align: top;\n",
       "    }\n",
       "\n",
       "    .dataframe thead th {\n",
       "        text-align: right;\n",
       "    }\n",
       "</style>\n",
       "<table border=\"1\" class=\"dataframe\">\n",
       "  <thead>\n",
       "    <tr style=\"text-align: right;\">\n",
       "      <th></th>\n",
       "      <th>Unnamed: 0</th>\n",
       "      <th>count</th>\n",
       "      <th>hate_speech</th>\n",
       "      <th>offensive_language</th>\n",
       "      <th>neither</th>\n",
       "      <th>class</th>\n",
       "      <th>tweet</th>\n",
       "    </tr>\n",
       "  </thead>\n",
       "  <tbody>\n",
       "    <tr>\n",
       "      <th>0</th>\n",
       "      <td>0</td>\n",
       "      <td>3</td>\n",
       "      <td>0</td>\n",
       "      <td>0</td>\n",
       "      <td>3</td>\n",
       "      <td>2</td>\n",
       "      <td>!!! RT @mayasolovely: As a woman you shouldn't...</td>\n",
       "    </tr>\n",
       "    <tr>\n",
       "      <th>1</th>\n",
       "      <td>1</td>\n",
       "      <td>3</td>\n",
       "      <td>0</td>\n",
       "      <td>3</td>\n",
       "      <td>0</td>\n",
       "      <td>1</td>\n",
       "      <td>!!!!! RT @mleew17: boy dats cold...tyga dwn ba...</td>\n",
       "    </tr>\n",
       "    <tr>\n",
       "      <th>2</th>\n",
       "      <td>2</td>\n",
       "      <td>3</td>\n",
       "      <td>0</td>\n",
       "      <td>3</td>\n",
       "      <td>0</td>\n",
       "      <td>1</td>\n",
       "      <td>!!!!!!! RT @UrKindOfBrand Dawg!!!! RT @80sbaby...</td>\n",
       "    </tr>\n",
       "    <tr>\n",
       "      <th>3</th>\n",
       "      <td>3</td>\n",
       "      <td>3</td>\n",
       "      <td>0</td>\n",
       "      <td>2</td>\n",
       "      <td>1</td>\n",
       "      <td>1</td>\n",
       "      <td>!!!!!!!!! RT @C_G_Anderson: @viva_based she lo...</td>\n",
       "    </tr>\n",
       "    <tr>\n",
       "      <th>4</th>\n",
       "      <td>4</td>\n",
       "      <td>6</td>\n",
       "      <td>0</td>\n",
       "      <td>6</td>\n",
       "      <td>0</td>\n",
       "      <td>1</td>\n",
       "      <td>!!!!!!!!!!!!! RT @ShenikaRoberts: The shit you...</td>\n",
       "    </tr>\n",
       "  </tbody>\n",
       "</table>\n",
       "</div>"
      ]
     },
     "execution_count": 2,
     "metadata": {},
     "output_type": "execute_result"
    }
   ],
   "execution_count": 2
  },
  {
   "metadata": {
    "ExecuteTime": {
     "end_time": "2025-10-14T14:51:58.468995Z",
     "start_time": "2025-10-14T14:51:58.461430Z"
    }
   },
   "cell_type": "code",
   "source": "df.shape",
   "id": "7df455ce5b6c64ba",
   "outputs": [
    {
     "data": {
      "text/plain": [
       "(24783, 7)"
      ]
     },
     "execution_count": 3,
     "metadata": {},
     "output_type": "execute_result"
    }
   ],
   "execution_count": 3
  },
  {
   "metadata": {},
   "cell_type": "markdown",
   "source": "### Deleting unwanted columns",
   "id": "4ffb95e313db00b7"
  },
  {
   "metadata": {
    "ExecuteTime": {
     "end_time": "2025-10-14T14:52:30.126686Z",
     "start_time": "2025-10-14T14:52:30.115798Z"
    }
   },
   "cell_type": "code",
   "source": "df.columns",
   "id": "7415583e1c124dd4",
   "outputs": [
    {
     "data": {
      "text/plain": [
       "Index(['Unnamed: 0', 'count', 'hate_speech', 'offensive_language', 'neither',\n",
       "       'class', 'tweet'],\n",
       "      dtype='object')"
      ]
     },
     "execution_count": 4,
     "metadata": {},
     "output_type": "execute_result"
    }
   ],
   "execution_count": 4
  },
  {
   "metadata": {
    "ExecuteTime": {
     "end_time": "2025-10-14T14:53:57.458581Z",
     "start_time": "2025-10-14T14:53:57.450979Z"
    }
   },
   "cell_type": "code",
   "source": "df.drop(columns = ['Unnamed: 0', 'count', 'hate_speech', 'offensive_language', 'neither'],inplace=True)",
   "id": "47c978a1eeea8193",
   "outputs": [],
   "execution_count": 5
  },
  {
   "metadata": {
    "ExecuteTime": {
     "end_time": "2025-10-14T14:54:03.301428Z",
     "start_time": "2025-10-14T14:54:03.291432Z"
    }
   },
   "cell_type": "code",
   "source": "df.head()",
   "id": "c9cf48a87563dada",
   "outputs": [
    {
     "data": {
      "text/plain": [
       "   class                                              tweet\n",
       "0      2  !!! RT @mayasolovely: As a woman you shouldn't...\n",
       "1      1  !!!!! RT @mleew17: boy dats cold...tyga dwn ba...\n",
       "2      1  !!!!!!! RT @UrKindOfBrand Dawg!!!! RT @80sbaby...\n",
       "3      1  !!!!!!!!! RT @C_G_Anderson: @viva_based she lo...\n",
       "4      1  !!!!!!!!!!!!! RT @ShenikaRoberts: The shit you..."
      ],
      "text/html": [
       "<div>\n",
       "<style scoped>\n",
       "    .dataframe tbody tr th:only-of-type {\n",
       "        vertical-align: middle;\n",
       "    }\n",
       "\n",
       "    .dataframe tbody tr th {\n",
       "        vertical-align: top;\n",
       "    }\n",
       "\n",
       "    .dataframe thead th {\n",
       "        text-align: right;\n",
       "    }\n",
       "</style>\n",
       "<table border=\"1\" class=\"dataframe\">\n",
       "  <thead>\n",
       "    <tr style=\"text-align: right;\">\n",
       "      <th></th>\n",
       "      <th>class</th>\n",
       "      <th>tweet</th>\n",
       "    </tr>\n",
       "  </thead>\n",
       "  <tbody>\n",
       "    <tr>\n",
       "      <th>0</th>\n",
       "      <td>2</td>\n",
       "      <td>!!! RT @mayasolovely: As a woman you shouldn't...</td>\n",
       "    </tr>\n",
       "    <tr>\n",
       "      <th>1</th>\n",
       "      <td>1</td>\n",
       "      <td>!!!!! RT @mleew17: boy dats cold...tyga dwn ba...</td>\n",
       "    </tr>\n",
       "    <tr>\n",
       "      <th>2</th>\n",
       "      <td>1</td>\n",
       "      <td>!!!!!!! RT @UrKindOfBrand Dawg!!!! RT @80sbaby...</td>\n",
       "    </tr>\n",
       "    <tr>\n",
       "      <th>3</th>\n",
       "      <td>1</td>\n",
       "      <td>!!!!!!!!! RT @C_G_Anderson: @viva_based she lo...</td>\n",
       "    </tr>\n",
       "    <tr>\n",
       "      <th>4</th>\n",
       "      <td>1</td>\n",
       "      <td>!!!!!!!!!!!!! RT @ShenikaRoberts: The shit you...</td>\n",
       "    </tr>\n",
       "  </tbody>\n",
       "</table>\n",
       "</div>"
      ]
     },
     "execution_count": 6,
     "metadata": {},
     "output_type": "execute_result"
    }
   ],
   "execution_count": 6
  },
  {
   "metadata": {},
   "cell_type": "markdown",
   "source": "### Checking null values",
   "id": "1b5b92636fb82098"
  },
  {
   "metadata": {
    "ExecuteTime": {
     "end_time": "2025-10-14T14:54:37.732384Z",
     "start_time": "2025-10-14T14:54:37.722415Z"
    }
   },
   "cell_type": "code",
   "source": "df.isna().sum()",
   "id": "6d75e10e9d596c7a",
   "outputs": [
    {
     "data": {
      "text/plain": [
       "class    0\n",
       "tweet    0\n",
       "dtype: int64"
      ]
     },
     "execution_count": 7,
     "metadata": {},
     "output_type": "execute_result"
    }
   ],
   "execution_count": 7
  },
  {
   "metadata": {
    "ExecuteTime": {
     "end_time": "2025-10-14T14:54:59.525787Z",
     "start_time": "2025-10-14T14:54:59.517062Z"
    }
   },
   "cell_type": "code",
   "source": "df.tweet.iloc[0]",
   "id": "5948434ed4958047",
   "outputs": [
    {
     "data": {
      "text/plain": [
       "\"!!! RT @mayasolovely: As a woman you shouldn't complain about cleaning up your house. &amp; as a man you should always take the trash out...\""
      ]
     },
     "execution_count": 8,
     "metadata": {},
     "output_type": "execute_result"
    }
   ],
   "execution_count": 8
  },
  {
   "metadata": {
    "ExecuteTime": {
     "end_time": "2025-10-14T14:55:38.083152Z",
     "start_time": "2025-10-14T14:55:38.075245Z"
    }
   },
   "cell_type": "code",
   "source": "df.tweet.iloc[100]",
   "id": "48f50e2dc43fc223",
   "outputs": [
    {
     "data": {
      "text/plain": [
       "'\"@ClicquotSuave: LMAOOOOOOOOOOO this nigga @Krillz_Nuh_Care http://t.co/AAnpSUjmYI\" &lt;bitch want likes for some depressing shit..foh'"
      ]
     },
     "execution_count": 9,
     "metadata": {},
     "output_type": "execute_result"
    }
   ],
   "execution_count": 9
  },
  {
   "metadata": {},
   "cell_type": "markdown",
   "source": "### Deleting unwanted symbols and numerical data",
   "id": "667d76dbb193504e"
  },
  {
   "metadata": {
    "ExecuteTime": {
     "end_time": "2025-10-14T15:00:29.578661Z",
     "start_time": "2025-10-14T15:00:29.446784Z"
    }
   },
   "cell_type": "code",
   "source": [
    "df['processed_tweet'] = df.tweet.str.replace(r'[^a-zA-Z]',' ',regex=True)\n",
    "df.head()"
   ],
   "id": "3bb7f5c5f435ef41",
   "outputs": [
    {
     "data": {
      "text/plain": [
       "   class                                              tweet  \\\n",
       "0      2  !!! RT @mayasolovely: As a woman you shouldn't...   \n",
       "1      1  !!!!! RT @mleew17: boy dats cold...tyga dwn ba...   \n",
       "2      1  !!!!!!! RT @UrKindOfBrand Dawg!!!! RT @80sbaby...   \n",
       "3      1  !!!!!!!!! RT @C_G_Anderson: @viva_based she lo...   \n",
       "4      1  !!!!!!!!!!!!! RT @ShenikaRoberts: The shit you...   \n",
       "\n",
       "                                     processed_tweet  \n",
       "0      RT  mayasolovely  As a woman you shouldn t...  \n",
       "1        RT  mleew    boy dats cold   tyga dwn ba...  \n",
       "2          RT  UrKindOfBrand Dawg     RT    sbaby...  \n",
       "3            RT  C G Anderson   viva based she lo...  \n",
       "4                RT  ShenikaRoberts  The shit you...  "
      ],
      "text/html": [
       "<div>\n",
       "<style scoped>\n",
       "    .dataframe tbody tr th:only-of-type {\n",
       "        vertical-align: middle;\n",
       "    }\n",
       "\n",
       "    .dataframe tbody tr th {\n",
       "        vertical-align: top;\n",
       "    }\n",
       "\n",
       "    .dataframe thead th {\n",
       "        text-align: right;\n",
       "    }\n",
       "</style>\n",
       "<table border=\"1\" class=\"dataframe\">\n",
       "  <thead>\n",
       "    <tr style=\"text-align: right;\">\n",
       "      <th></th>\n",
       "      <th>class</th>\n",
       "      <th>tweet</th>\n",
       "      <th>processed_tweet</th>\n",
       "    </tr>\n",
       "  </thead>\n",
       "  <tbody>\n",
       "    <tr>\n",
       "      <th>0</th>\n",
       "      <td>2</td>\n",
       "      <td>!!! RT @mayasolovely: As a woman you shouldn't...</td>\n",
       "      <td>RT  mayasolovely  As a woman you shouldn t...</td>\n",
       "    </tr>\n",
       "    <tr>\n",
       "      <th>1</th>\n",
       "      <td>1</td>\n",
       "      <td>!!!!! RT @mleew17: boy dats cold...tyga dwn ba...</td>\n",
       "      <td>RT  mleew    boy dats cold   tyga dwn ba...</td>\n",
       "    </tr>\n",
       "    <tr>\n",
       "      <th>2</th>\n",
       "      <td>1</td>\n",
       "      <td>!!!!!!! RT @UrKindOfBrand Dawg!!!! RT @80sbaby...</td>\n",
       "      <td>RT  UrKindOfBrand Dawg     RT    sbaby...</td>\n",
       "    </tr>\n",
       "    <tr>\n",
       "      <th>3</th>\n",
       "      <td>1</td>\n",
       "      <td>!!!!!!!!! RT @C_G_Anderson: @viva_based she lo...</td>\n",
       "      <td>RT  C G Anderson   viva based she lo...</td>\n",
       "    </tr>\n",
       "    <tr>\n",
       "      <th>4</th>\n",
       "      <td>1</td>\n",
       "      <td>!!!!!!!!!!!!! RT @ShenikaRoberts: The shit you...</td>\n",
       "      <td>RT  ShenikaRoberts  The shit you...</td>\n",
       "    </tr>\n",
       "  </tbody>\n",
       "</table>\n",
       "</div>"
      ]
     },
     "execution_count": 10,
     "metadata": {},
     "output_type": "execute_result"
    }
   ],
   "execution_count": 10
  },
  {
   "metadata": {
    "ExecuteTime": {
     "end_time": "2025-10-14T15:01:45.045437Z",
     "start_time": "2025-10-14T15:01:45.038436Z"
    }
   },
   "cell_type": "code",
   "source": "df.processed_tweet.iloc[1000]",
   "id": "7b2c026bc7488c13",
   "outputs": [
    {
     "data": {
      "text/plain": [
       "'                                                                 betysweetcocker  That pussy is just              imma assume she just had a baby like  the day before '"
      ]
     },
     "execution_count": 13,
     "metadata": {},
     "output_type": "execute_result"
    }
   ],
   "execution_count": 13
  },
  {
   "metadata": {},
   "cell_type": "markdown",
   "source": "### Removing unwanted spaces",
   "id": "4840a6ab34e9e672"
  },
  {
   "metadata": {
    "ExecuteTime": {
     "end_time": "2025-10-14T15:02:58.182318Z",
     "start_time": "2025-10-14T15:02:58.093964Z"
    }
   },
   "cell_type": "code",
   "source": "df['processed_tweet_2'] = df['processed_tweet'].str.replace(r'[\\s]+',' ',regex=True)",
   "id": "2735149caadff1aa",
   "outputs": [],
   "execution_count": 14
  },
  {
   "metadata": {
    "ExecuteTime": {
     "end_time": "2025-10-14T15:03:10.475487Z",
     "start_time": "2025-10-14T15:03:10.465946Z"
    }
   },
   "cell_type": "code",
   "source": "df.processed_tweet_2.iloc[1000]",
   "id": "2ffc4ea11c61ee82",
   "outputs": [
    {
     "data": {
      "text/plain": [
       "' betysweetcocker That pussy is just imma assume she just had a baby like the day before '"
      ]
     },
     "execution_count": 15,
     "metadata": {},
     "output_type": "execute_result"
    }
   ],
   "execution_count": 15
  },
  {
   "metadata": {},
   "cell_type": "markdown",
   "source": "### Deleting unwanted column\n",
   "id": "cda8f4454c5a1b98"
  },
  {
   "metadata": {
    "ExecuteTime": {
     "end_time": "2025-10-14T15:04:16.422024Z",
     "start_time": "2025-10-14T15:04:16.413585Z"
    }
   },
   "cell_type": "code",
   "source": "df.drop(columns = ['tweet','processed_tweet'],inplace=True)",
   "id": "22c5382393676797",
   "outputs": [],
   "execution_count": 16
  },
  {
   "metadata": {
    "ExecuteTime": {
     "end_time": "2025-10-14T15:04:20.162439Z",
     "start_time": "2025-10-14T15:04:20.153789Z"
    }
   },
   "cell_type": "code",
   "source": "df.head()",
   "id": "9a8b7053e7ff0f0d",
   "outputs": [
    {
     "data": {
      "text/plain": [
       "   class                                  processed_tweet_2\n",
       "0      2   RT mayasolovely As a woman you shouldn t comp...\n",
       "1      1   RT mleew boy dats cold tyga dwn bad for cuffi...\n",
       "2      1   RT UrKindOfBrand Dawg RT sbaby life You ever ...\n",
       "3      1   RT C G Anderson viva based she look like a tr...\n",
       "4      1   RT ShenikaRoberts The shit you hear about me ..."
      ],
      "text/html": [
       "<div>\n",
       "<style scoped>\n",
       "    .dataframe tbody tr th:only-of-type {\n",
       "        vertical-align: middle;\n",
       "    }\n",
       "\n",
       "    .dataframe tbody tr th {\n",
       "        vertical-align: top;\n",
       "    }\n",
       "\n",
       "    .dataframe thead th {\n",
       "        text-align: right;\n",
       "    }\n",
       "</style>\n",
       "<table border=\"1\" class=\"dataframe\">\n",
       "  <thead>\n",
       "    <tr style=\"text-align: right;\">\n",
       "      <th></th>\n",
       "      <th>class</th>\n",
       "      <th>processed_tweet_2</th>\n",
       "    </tr>\n",
       "  </thead>\n",
       "  <tbody>\n",
       "    <tr>\n",
       "      <th>0</th>\n",
       "      <td>2</td>\n",
       "      <td>RT mayasolovely As a woman you shouldn t comp...</td>\n",
       "    </tr>\n",
       "    <tr>\n",
       "      <th>1</th>\n",
       "      <td>1</td>\n",
       "      <td>RT mleew boy dats cold tyga dwn bad for cuffi...</td>\n",
       "    </tr>\n",
       "    <tr>\n",
       "      <th>2</th>\n",
       "      <td>1</td>\n",
       "      <td>RT UrKindOfBrand Dawg RT sbaby life You ever ...</td>\n",
       "    </tr>\n",
       "    <tr>\n",
       "      <th>3</th>\n",
       "      <td>1</td>\n",
       "      <td>RT C G Anderson viva based she look like a tr...</td>\n",
       "    </tr>\n",
       "    <tr>\n",
       "      <th>4</th>\n",
       "      <td>1</td>\n",
       "      <td>RT ShenikaRoberts The shit you hear about me ...</td>\n",
       "    </tr>\n",
       "  </tbody>\n",
       "</table>\n",
       "</div>"
      ]
     },
     "execution_count": 17,
     "metadata": {},
     "output_type": "execute_result"
    }
   ],
   "execution_count": 17
  },
  {
   "metadata": {},
   "cell_type": "markdown",
   "source": "# NLP techniques",
   "id": "c3ce882e3c5c8838"
  },
  {
   "metadata": {
    "ExecuteTime": {
     "end_time": "2025-10-14T15:06:35.333324Z",
     "start_time": "2025-10-14T15:06:35.003349Z"
    }
   },
   "cell_type": "code",
   "source": "nlp = spacy.load('en_core_web_sm')",
   "id": "dbaa46ba2ebf6eee",
   "outputs": [],
   "execution_count": 20
  },
  {
   "metadata": {},
   "cell_type": "markdown",
   "source": "### Lemmatization",
   "id": "cf17a1b1a12fe983"
  },
  {
   "metadata": {
    "ExecuteTime": {
     "end_time": "2025-10-14T15:09:09.443377Z",
     "start_time": "2025-10-14T15:09:09.433758Z"
    }
   },
   "cell_type": "code",
   "source": [
    "def lemmatization(text):\n",
    "    doc = nlp(text)\n",
    "    lemmaList = [word.lemma_ for word in doc]\n",
    "    return ' '.join(lemmaList)"
   ],
   "id": "52ef9b5ff47548ae",
   "outputs": [],
   "execution_count": 21
  },
  {
   "metadata": {
    "ExecuteTime": {
     "end_time": "2025-10-14T15:11:55.500491Z",
     "start_time": "2025-10-14T15:09:44.587373Z"
    }
   },
   "cell_type": "code",
   "source": "df['lemma_tweet'] = df['processed_tweet_2'].apply(lemmatization)",
   "id": "9976b37484c8dac3",
   "outputs": [],
   "execution_count": 22
  },
  {
   "metadata": {
    "ExecuteTime": {
     "end_time": "2025-10-14T15:13:12.214947Z",
     "start_time": "2025-10-14T15:13:12.208884Z"
    }
   },
   "cell_type": "code",
   "source": "df.processed_tweet_2.iloc[67]",
   "id": "aca75fd881938ca1",
   "outputs": [
    {
     "data": {
      "text/plain": [
       "' Allyhaaaaa Lemmie eat a Oreo amp do these dishes One oreo Lol'"
      ]
     },
     "execution_count": 28,
     "metadata": {},
     "output_type": "execute_result"
    }
   ],
   "execution_count": 28
  },
  {
   "metadata": {
    "ExecuteTime": {
     "end_time": "2025-10-14T15:13:24.697375Z",
     "start_time": "2025-10-14T15:13:24.692392Z"
    }
   },
   "cell_type": "code",
   "source": "df.lemma_tweet.iloc[67]",
   "id": "426563afdd050118",
   "outputs": [
    {
     "data": {
      "text/plain": [
       "'  Allyhaaaaa Lemmie eat a Oreo amp do these dish one oreo lol'"
      ]
     },
     "execution_count": 29,
     "metadata": {},
     "output_type": "execute_result"
    }
   ],
   "execution_count": 29
  },
  {
   "metadata": {},
   "cell_type": "markdown",
   "source": "### Removing stopwords",
   "id": "c7155e9fda12d121"
  },
  {
   "metadata": {
    "ExecuteTime": {
     "end_time": "2025-10-14T15:16:18.914522Z",
     "start_time": "2025-10-14T15:16:18.909223Z"
    }
   },
   "cell_type": "code",
   "source": [
    "def remove_stopwords(text):\n",
    "    doc = nlp(text)\n",
    "    no_stopwords_list = [word.text for word in doc if not word.is_stop]\n",
    "    return ' '.join(no_stopwords_list)"
   ],
   "id": "5b79618841e37f74",
   "outputs": [],
   "execution_count": 30
  },
  {
   "metadata": {
    "ExecuteTime": {
     "end_time": "2025-10-14T15:18:48.497352Z",
     "start_time": "2025-10-14T15:16:41.959321Z"
    }
   },
   "cell_type": "code",
   "source": "df['final_tweet'] = df.lemma_tweet.apply(remove_stopwords)",
   "id": "cfddfe8be033eea5",
   "outputs": [],
   "execution_count": 31
  },
  {
   "metadata": {
    "ExecuteTime": {
     "end_time": "2025-10-14T15:18:48.543205Z",
     "start_time": "2025-10-14T15:18:48.532372Z"
    }
   },
   "cell_type": "code",
   "source": "df.lemma_tweet.iloc[67]",
   "id": "e47cb8a1b471184d",
   "outputs": [
    {
     "data": {
      "text/plain": [
       "'  Allyhaaaaa Lemmie eat a Oreo amp do these dish one oreo lol'"
      ]
     },
     "execution_count": 32,
     "metadata": {},
     "output_type": "execute_result"
    }
   ],
   "execution_count": 32
  },
  {
   "metadata": {
    "ExecuteTime": {
     "end_time": "2025-10-14T15:24:24.312715Z",
     "start_time": "2025-10-14T15:24:24.306211Z"
    }
   },
   "cell_type": "code",
   "source": "df.final_tweet.iloc[67]",
   "id": "ffc512634a96ec76",
   "outputs": [
    {
     "data": {
      "text/plain": [
       "'   Allyhaaaaa Lemmie eat Oreo amp dish oreo lol'"
      ]
     },
     "execution_count": 34,
     "metadata": {},
     "output_type": "execute_result"
    }
   ],
   "execution_count": 34
  },
  {
   "metadata": {},
   "cell_type": "markdown",
   "source": "# One Hot representation",
   "id": "e16d7261808f73ce"
  },
  {
   "metadata": {
    "ExecuteTime": {
     "end_time": "2025-10-14T15:27:03.722376Z",
     "start_time": "2025-10-14T15:27:03.513944Z"
    }
   },
   "cell_type": "code",
   "source": [
    "vocab_size = 10000\n",
    "one_hot_representation = [one_hot(words,vocab_size) for words in df['final_tweet']]"
   ],
   "id": "6b02cd81fcd1b002",
   "outputs": [],
   "execution_count": 36
  },
  {
   "metadata": {
    "ExecuteTime": {
     "end_time": "2025-10-14T15:31:02.253547Z",
     "start_time": "2025-10-14T15:31:02.249565Z"
    }
   },
   "cell_type": "code",
   "source": [
    "for i in range(0,4):\n",
    "    print(df['final_tweet'].iloc[i])"
   ],
   "id": "600c8a9b72e825fe",
   "outputs": [
    {
     "name": "stdout",
     "output_type": "stream",
     "text": [
      "   RT mayasolovely woman shouldn t complain clean house amp man trash\n",
      "   RT mleew boy dat cold tyga dwn bad cuffin dat hoe st place\n",
      "   RT UrKindOfBrand Dawg RT sbaby life fuck bitch start cry confuse shit\n",
      "   RT C G Anderson viva base look like tranny\n"
     ]
    }
   ],
   "execution_count": 39
  },
  {
   "metadata": {
    "ExecuteTime": {
     "end_time": "2025-10-14T15:31:28.550734Z",
     "start_time": "2025-10-14T15:31:28.546733Z"
    }
   },
   "cell_type": "code",
   "source": [
    "for i in range(0,4):\n",
    "    print(one_hot_representation[i])"
   ],
   "id": "6e2ce79f8cdd6fe9",
   "outputs": [
    {
     "name": "stdout",
     "output_type": "stream",
     "text": [
      "[389, 4510, 7392, 195, 590, 6737, 6439, 6516, 4396, 4279, 543]\n",
      "[389, 9744, 2952, 686, 6692, 8090, 7272, 8401, 460, 686, 1899, 3753, 4118]\n",
      "[389, 6782, 1387, 389, 7483, 6977, 7314, 5678, 7115, 4209, 8027, 4999]\n",
      "[389, 3077, 2370, 790, 2848, 9683, 5345, 5992, 131]\n"
     ]
    }
   ],
   "execution_count": 40
  },
  {
   "metadata": {
    "ExecuteTime": {
     "end_time": "2025-10-14T15:34:04.172688Z",
     "start_time": "2025-10-14T15:34:04.130160Z"
    }
   },
   "cell_type": "code",
   "source": [
    "sentence_length = 20\n",
    "embedded_tweet = pad_sequences(one_hot_representation, padding = 'pre',maxlen=sentence_length)"
   ],
   "id": "ef596ee63ce4e826",
   "outputs": [],
   "execution_count": 42
  },
  {
   "metadata": {
    "ExecuteTime": {
     "end_time": "2025-10-14T15:34:33.999579Z",
     "start_time": "2025-10-14T15:34:33.995602Z"
    }
   },
   "cell_type": "code",
   "source": [
    "for i in range(0,4):\n",
    "    print(embedded_tweet[i])"
   ],
   "id": "646942279de8fb1",
   "outputs": [
    {
     "name": "stdout",
     "output_type": "stream",
     "text": [
      "[   0    0    0    0    0    0    0    0    0  389 4510 7392  195  590\n",
      " 6737 6439 6516 4396 4279  543]\n",
      "[   0    0    0    0    0    0    0  389 9744 2952  686 6692 8090 7272\n",
      " 8401  460  686 1899 3753 4118]\n",
      "[   0    0    0    0    0    0    0    0  389 6782 1387  389 7483 6977\n",
      " 7314 5678 7115 4209 8027 4999]\n",
      "[   0    0    0    0    0    0    0    0    0    0    0  389 3077 2370\n",
      "  790 2848 9683 5345 5992  131]\n"
     ]
    }
   ],
   "execution_count": 44
  },
  {
   "metadata": {
    "ExecuteTime": {
     "end_time": "2025-10-14T15:36:07.192724Z",
     "start_time": "2025-10-14T15:36:07.189343Z"
    }
   },
   "cell_type": "code",
   "source": [
    "X = np.array(embedded_tweet)\n",
    "y = np.array(df['class'])"
   ],
   "id": "dc6042fbe194a3ed",
   "outputs": [],
   "execution_count": 46
  },
  {
   "metadata": {
    "ExecuteTime": {
     "end_time": "2025-10-14T15:36:33.771769Z",
     "start_time": "2025-10-14T15:36:33.765946Z"
    }
   },
   "cell_type": "code",
   "source": "df['class'].value_counts()",
   "id": "aa0566440c603847",
   "outputs": [
    {
     "data": {
      "text/plain": [
       "class\n",
       "1    19190\n",
       "2     4163\n",
       "0     1430\n",
       "Name: count, dtype: int64"
      ]
     },
     "execution_count": 47,
     "metadata": {},
     "output_type": "execute_result"
    }
   ],
   "execution_count": 47
  },
  {
   "metadata": {},
   "cell_type": "markdown",
   "source": "### Balance Dataset",
   "id": "7a862248483b14bb"
  },
  {
   "metadata": {
    "ExecuteTime": {
     "end_time": "2025-10-14T15:39:10.657107Z",
     "start_time": "2025-10-14T15:39:10.609680Z"
    }
   },
   "cell_type": "code",
   "source": [
    "smote = SMOTE(sampling_strategy='minority')\n",
    "X,y = smote.fit_resample(X, y)"
   ],
   "id": "d393532411a87c20",
   "outputs": [],
   "execution_count": 49
  },
  {
   "metadata": {},
   "cell_type": "markdown",
   "source": "### Train test split",
   "id": "a4f78d6d59a3c01f"
  },
  {
   "metadata": {
    "ExecuteTime": {
     "end_time": "2025-10-14T15:40:12.125533Z",
     "start_time": "2025-10-14T15:40:12.114995Z"
    }
   },
   "cell_type": "code",
   "source": [
    "from sklearn.model_selection import train_test_split\n",
    "\n",
    "X_train,X_test,y_train,y_test = train_test_split(X,y,test_size=0.2,random_state=42)"
   ],
   "id": "c3756824c3908dfe",
   "outputs": [],
   "execution_count": 50
  },
  {
   "metadata": {
    "ExecuteTime": {
     "end_time": "2025-10-14T15:40:21.494795Z",
     "start_time": "2025-10-14T15:40:21.489791Z"
    }
   },
   "cell_type": "code",
   "source": "X_train.shape, X_test.shape,y_train.shape,y_test.shape",
   "id": "811b64dd33e7c3ff",
   "outputs": [
    {
     "data": {
      "text/plain": [
       "((34034, 20), (8509, 20), (34034,), (8509,))"
      ]
     },
     "execution_count": 51,
     "metadata": {},
     "output_type": "execute_result"
    }
   ],
   "execution_count": 51
  },
  {
   "metadata": {},
   "cell_type": "markdown",
   "source": "# Building LSTM Model",
   "id": "813c93de0830d124"
  },
  {
   "metadata": {
    "ExecuteTime": {
     "end_time": "2025-10-14T15:49:09.462552Z",
     "start_time": "2025-10-14T15:49:09.373358Z"
    }
   },
   "cell_type": "code",
   "source": [
    "import tensorflow as tf\n",
    "from tensorflow import keras\n",
    "\n",
    "dimension = 50\n",
    "model = keras.Sequential([\n",
    "    #embedding layer\n",
    "    keras.layers.Embedding(vocab_size,dimension,input_shape=(sentence_length,)),\n",
    "    #LSTM Layer stacked\n",
    "    keras.layers.LSTM(100,return_sequences=True),\n",
    "    keras.layers.LSTM(50,return_sequences=True),\n",
    "    keras.layers.LSTM(50),\n",
    "    #output layer\n",
    "    keras.layers.Dense(3,activation='softmax')\n",
    "])\n",
    "\n",
    "model.compile(optimizer='adam',loss='sparse_categorical_crossentropy',metrics=['accuracy'])"
   ],
   "id": "b533347e63987edc",
   "outputs": [
    {
     "name": "stderr",
     "output_type": "stream",
     "text": [
      "C:\\Users\\insec\\PycharmProjects\\HateSpeechDetection\\.venv\\Lib\\site-packages\\keras\\src\\layers\\core\\embedding.py:100: UserWarning: Do not pass an `input_shape`/`input_dim` argument to a layer. When using Sequential models, prefer using an `Input(shape)` object as the first layer in the model instead.\n",
      "  super().__init__(**kwargs)\n"
     ]
    }
   ],
   "execution_count": 54
  },
  {
   "metadata": {
    "ExecuteTime": {
     "end_time": "2025-10-14T15:49:12.042675Z",
     "start_time": "2025-10-14T15:49:12.026680Z"
    }
   },
   "cell_type": "code",
   "source": "model.summary()",
   "id": "85b1a0e1846d28c4",
   "outputs": [
    {
     "data": {
      "text/plain": [
       "\u001B[1mModel: \"sequential_1\"\u001B[0m\n"
      ],
      "text/html": [
       "<pre style=\"white-space:pre;overflow-x:auto;line-height:normal;font-family:Menlo,'DejaVu Sans Mono',consolas,'Courier New',monospace\"><span style=\"font-weight: bold\">Model: \"sequential_1\"</span>\n",
       "</pre>\n"
      ]
     },
     "metadata": {},
     "output_type": "display_data"
    },
    {
     "data": {
      "text/plain": [
       "┏━━━━━━━━━━━━━━━━━━━━━━━━━━━━━━━━━┳━━━━━━━━━━━━━━━━━━━━━━━━┳━━━━━━━━━━━━━━━┓\n",
       "┃\u001B[1m \u001B[0m\u001B[1mLayer (type)                   \u001B[0m\u001B[1m \u001B[0m┃\u001B[1m \u001B[0m\u001B[1mOutput Shape          \u001B[0m\u001B[1m \u001B[0m┃\u001B[1m \u001B[0m\u001B[1m      Param #\u001B[0m\u001B[1m \u001B[0m┃\n",
       "┡━━━━━━━━━━━━━━━━━━━━━━━━━━━━━━━━━╇━━━━━━━━━━━━━━━━━━━━━━━━╇━━━━━━━━━━━━━━━┩\n",
       "│ embedding_1 (\u001B[38;5;33mEmbedding\u001B[0m)         │ (\u001B[38;5;45mNone\u001B[0m, \u001B[38;5;34m20\u001B[0m, \u001B[38;5;34m50\u001B[0m)         │       \u001B[38;5;34m500,000\u001B[0m │\n",
       "├─────────────────────────────────┼────────────────────────┼───────────────┤\n",
       "│ lstm_3 (\u001B[38;5;33mLSTM\u001B[0m)                   │ (\u001B[38;5;45mNone\u001B[0m, \u001B[38;5;34m20\u001B[0m, \u001B[38;5;34m100\u001B[0m)        │        \u001B[38;5;34m60,400\u001B[0m │\n",
       "├─────────────────────────────────┼────────────────────────┼───────────────┤\n",
       "│ lstm_4 (\u001B[38;5;33mLSTM\u001B[0m)                   │ (\u001B[38;5;45mNone\u001B[0m, \u001B[38;5;34m20\u001B[0m, \u001B[38;5;34m50\u001B[0m)         │        \u001B[38;5;34m30,200\u001B[0m │\n",
       "├─────────────────────────────────┼────────────────────────┼───────────────┤\n",
       "│ lstm_5 (\u001B[38;5;33mLSTM\u001B[0m)                   │ (\u001B[38;5;45mNone\u001B[0m, \u001B[38;5;34m50\u001B[0m)             │        \u001B[38;5;34m20,200\u001B[0m │\n",
       "├─────────────────────────────────┼────────────────────────┼───────────────┤\n",
       "│ dense_1 (\u001B[38;5;33mDense\u001B[0m)                 │ (\u001B[38;5;45mNone\u001B[0m, \u001B[38;5;34m3\u001B[0m)              │           \u001B[38;5;34m153\u001B[0m │\n",
       "└─────────────────────────────────┴────────────────────────┴───────────────┘\n"
      ],
      "text/html": [
       "<pre style=\"white-space:pre;overflow-x:auto;line-height:normal;font-family:Menlo,'DejaVu Sans Mono',consolas,'Courier New',monospace\">┏━━━━━━━━━━━━━━━━━━━━━━━━━━━━━━━━━┳━━━━━━━━━━━━━━━━━━━━━━━━┳━━━━━━━━━━━━━━━┓\n",
       "┃<span style=\"font-weight: bold\"> Layer (type)                    </span>┃<span style=\"font-weight: bold\"> Output Shape           </span>┃<span style=\"font-weight: bold\">       Param # </span>┃\n",
       "┡━━━━━━━━━━━━━━━━━━━━━━━━━━━━━━━━━╇━━━━━━━━━━━━━━━━━━━━━━━━╇━━━━━━━━━━━━━━━┩\n",
       "│ embedding_1 (<span style=\"color: #0087ff; text-decoration-color: #0087ff\">Embedding</span>)         │ (<span style=\"color: #00d7ff; text-decoration-color: #00d7ff\">None</span>, <span style=\"color: #00af00; text-decoration-color: #00af00\">20</span>, <span style=\"color: #00af00; text-decoration-color: #00af00\">50</span>)         │       <span style=\"color: #00af00; text-decoration-color: #00af00\">500,000</span> │\n",
       "├─────────────────────────────────┼────────────────────────┼───────────────┤\n",
       "│ lstm_3 (<span style=\"color: #0087ff; text-decoration-color: #0087ff\">LSTM</span>)                   │ (<span style=\"color: #00d7ff; text-decoration-color: #00d7ff\">None</span>, <span style=\"color: #00af00; text-decoration-color: #00af00\">20</span>, <span style=\"color: #00af00; text-decoration-color: #00af00\">100</span>)        │        <span style=\"color: #00af00; text-decoration-color: #00af00\">60,400</span> │\n",
       "├─────────────────────────────────┼────────────────────────┼───────────────┤\n",
       "│ lstm_4 (<span style=\"color: #0087ff; text-decoration-color: #0087ff\">LSTM</span>)                   │ (<span style=\"color: #00d7ff; text-decoration-color: #00d7ff\">None</span>, <span style=\"color: #00af00; text-decoration-color: #00af00\">20</span>, <span style=\"color: #00af00; text-decoration-color: #00af00\">50</span>)         │        <span style=\"color: #00af00; text-decoration-color: #00af00\">30,200</span> │\n",
       "├─────────────────────────────────┼────────────────────────┼───────────────┤\n",
       "│ lstm_5 (<span style=\"color: #0087ff; text-decoration-color: #0087ff\">LSTM</span>)                   │ (<span style=\"color: #00d7ff; text-decoration-color: #00d7ff\">None</span>, <span style=\"color: #00af00; text-decoration-color: #00af00\">50</span>)             │        <span style=\"color: #00af00; text-decoration-color: #00af00\">20,200</span> │\n",
       "├─────────────────────────────────┼────────────────────────┼───────────────┤\n",
       "│ dense_1 (<span style=\"color: #0087ff; text-decoration-color: #0087ff\">Dense</span>)                 │ (<span style=\"color: #00d7ff; text-decoration-color: #00d7ff\">None</span>, <span style=\"color: #00af00; text-decoration-color: #00af00\">3</span>)              │           <span style=\"color: #00af00; text-decoration-color: #00af00\">153</span> │\n",
       "└─────────────────────────────────┴────────────────────────┴───────────────┘\n",
       "</pre>\n"
      ]
     },
     "metadata": {},
     "output_type": "display_data"
    },
    {
     "data": {
      "text/plain": [
       "\u001B[1m Total params: \u001B[0m\u001B[38;5;34m610,953\u001B[0m (2.33 MB)\n"
      ],
      "text/html": [
       "<pre style=\"white-space:pre;overflow-x:auto;line-height:normal;font-family:Menlo,'DejaVu Sans Mono',consolas,'Courier New',monospace\"><span style=\"font-weight: bold\"> Total params: </span><span style=\"color: #00af00; text-decoration-color: #00af00\">610,953</span> (2.33 MB)\n",
       "</pre>\n"
      ]
     },
     "metadata": {},
     "output_type": "display_data"
    },
    {
     "data": {
      "text/plain": [
       "\u001B[1m Trainable params: \u001B[0m\u001B[38;5;34m610,953\u001B[0m (2.33 MB)\n"
      ],
      "text/html": [
       "<pre style=\"white-space:pre;overflow-x:auto;line-height:normal;font-family:Menlo,'DejaVu Sans Mono',consolas,'Courier New',monospace\"><span style=\"font-weight: bold\"> Trainable params: </span><span style=\"color: #00af00; text-decoration-color: #00af00\">610,953</span> (2.33 MB)\n",
       "</pre>\n"
      ]
     },
     "metadata": {},
     "output_type": "display_data"
    },
    {
     "data": {
      "text/plain": [
       "\u001B[1m Non-trainable params: \u001B[0m\u001B[38;5;34m0\u001B[0m (0.00 B)\n"
      ],
      "text/html": [
       "<pre style=\"white-space:pre;overflow-x:auto;line-height:normal;font-family:Menlo,'DejaVu Sans Mono',consolas,'Courier New',monospace\"><span style=\"font-weight: bold\"> Non-trainable params: </span><span style=\"color: #00af00; text-decoration-color: #00af00\">0</span> (0.00 B)\n",
       "</pre>\n"
      ]
     },
     "metadata": {},
     "output_type": "display_data"
    }
   ],
   "execution_count": 55
  },
  {
   "metadata": {
    "ExecuteTime": {
     "end_time": "2025-10-14T15:52:59.608238Z",
     "start_time": "2025-10-14T15:50:12.575710Z"
    }
   },
   "cell_type": "code",
   "source": "model.fit(X_train,y_train,epochs = 10,batch_size = 32)",
   "id": "efa396ea389d4f0c",
   "outputs": [
    {
     "name": "stdout",
     "output_type": "stream",
     "text": [
      "Epoch 1/10\n",
      "\u001B[1m1064/1064\u001B[0m \u001B[32m━━━━━━━━━━━━━━━━━━━━\u001B[0m\u001B[37m\u001B[0m \u001B[1m20s\u001B[0m 16ms/step - accuracy: 0.8700 - loss: 0.3428\n",
      "Epoch 2/10\n",
      "\u001B[1m1064/1064\u001B[0m \u001B[32m━━━━━━━━━━━━━━━━━━━━\u001B[0m\u001B[37m\u001B[0m \u001B[1m17s\u001B[0m 16ms/step - accuracy: 0.9446 - loss: 0.1664\n",
      "Epoch 3/10\n",
      "\u001B[1m1064/1064\u001B[0m \u001B[32m━━━━━━━━━━━━━━━━━━━━\u001B[0m\u001B[37m\u001B[0m \u001B[1m17s\u001B[0m 16ms/step - accuracy: 0.9612 - loss: 0.1222\n",
      "Epoch 4/10\n",
      "\u001B[1m1064/1064\u001B[0m \u001B[32m━━━━━━━━━━━━━━━━━━━━\u001B[0m\u001B[37m\u001B[0m \u001B[1m16s\u001B[0m 15ms/step - accuracy: 0.9709 - loss: 0.0935\n",
      "Epoch 5/10\n",
      "\u001B[1m1064/1064\u001B[0m \u001B[32m━━━━━━━━━━━━━━━━━━━━\u001B[0m\u001B[37m\u001B[0m \u001B[1m16s\u001B[0m 15ms/step - accuracy: 0.9771 - loss: 0.0739\n",
      "Epoch 6/10\n",
      "\u001B[1m1064/1064\u001B[0m \u001B[32m━━━━━━━━━━━━━━━━━━━━\u001B[0m\u001B[37m\u001B[0m \u001B[1m16s\u001B[0m 15ms/step - accuracy: 0.9825 - loss: 0.0552\n",
      "Epoch 7/10\n",
      "\u001B[1m1064/1064\u001B[0m \u001B[32m━━━━━━━━━━━━━━━━━━━━\u001B[0m\u001B[37m\u001B[0m \u001B[1m16s\u001B[0m 15ms/step - accuracy: 0.9872 - loss: 0.0394\n",
      "Epoch 8/10\n",
      "\u001B[1m1064/1064\u001B[0m \u001B[32m━━━━━━━━━━━━━━━━━━━━\u001B[0m\u001B[37m\u001B[0m \u001B[1m16s\u001B[0m 15ms/step - accuracy: 0.9904 - loss: 0.0306\n",
      "Epoch 9/10\n",
      "\u001B[1m1064/1064\u001B[0m \u001B[32m━━━━━━━━━━━━━━━━━━━━\u001B[0m\u001B[37m\u001B[0m \u001B[1m16s\u001B[0m 15ms/step - accuracy: 0.9934 - loss: 0.0214\n",
      "Epoch 10/10\n",
      "\u001B[1m1064/1064\u001B[0m \u001B[32m━━━━━━━━━━━━━━━━━━━━\u001B[0m\u001B[37m\u001B[0m \u001B[1m17s\u001B[0m 16ms/step - accuracy: 0.9946 - loss: 0.0164\n"
     ]
    },
    {
     "data": {
      "text/plain": [
       "<keras.src.callbacks.history.History at 0x24853e74d50>"
      ]
     },
     "execution_count": 56,
     "metadata": {},
     "output_type": "execute_result"
    }
   ],
   "execution_count": 56
  },
  {
   "metadata": {
    "ExecuteTime": {
     "end_time": "2025-10-14T15:53:59.284146Z",
     "start_time": "2025-10-14T15:53:57.518160Z"
    }
   },
   "cell_type": "code",
   "source": [
    "loss,accuracy = model.evaluate(X_test,y_test)\n",
    "print(f'Model Accuracy: {accuracy*100}')"
   ],
   "id": "7d60dcc366fa9b17",
   "outputs": [
    {
     "name": "stdout",
     "output_type": "stream",
     "text": [
      "\u001B[1m266/266\u001B[0m \u001B[32m━━━━━━━━━━━━━━━━━━━━\u001B[0m\u001B[37m\u001B[0m \u001B[1m2s\u001B[0m 5ms/step - accuracy: 0.8886 - loss: 0.6684\n",
      "Model Accuracy: 88.8588547706604\n"
     ]
    }
   ],
   "execution_count": 57
  },
  {
   "metadata": {
    "ExecuteTime": {
     "end_time": "2025-10-14T15:54:29.246503Z",
     "start_time": "2025-10-14T15:54:26.594664Z"
    }
   },
   "cell_type": "code",
   "source": "pred = np.argmax(model.predict(X_test),axis=-1)",
   "id": "469be770153f0e50",
   "outputs": [
    {
     "name": "stdout",
     "output_type": "stream",
     "text": [
      "\u001B[1m266/266\u001B[0m \u001B[32m━━━━━━━━━━━━━━━━━━━━\u001B[0m\u001B[37m\u001B[0m \u001B[1m2s\u001B[0m 7ms/step\n"
     ]
    }
   ],
   "execution_count": 58
  },
  {
   "metadata": {
    "ExecuteTime": {
     "end_time": "2025-10-14T15:54:39.334685Z",
     "start_time": "2025-10-14T15:54:39.329532Z"
    }
   },
   "cell_type": "code",
   "source": "y_test[:5]",
   "id": "b76fdddf64123d4",
   "outputs": [
    {
     "data": {
      "text/plain": [
       "array([1, 1, 0, 1, 2])"
      ]
     },
     "execution_count": 59,
     "metadata": {},
     "output_type": "execute_result"
    }
   ],
   "execution_count": 59
  },
  {
   "metadata": {
    "ExecuteTime": {
     "end_time": "2025-10-14T15:54:52.402128Z",
     "start_time": "2025-10-14T15:54:52.396240Z"
    }
   },
   "cell_type": "code",
   "source": "pred[:5]",
   "id": "90531ee09b008bbc",
   "outputs": [
    {
     "data": {
      "text/plain": [
       "array([1, 1, 0, 1, 2])"
      ]
     },
     "execution_count": 60,
     "metadata": {},
     "output_type": "execute_result"
    }
   ],
   "execution_count": 60
  },
  {
   "metadata": {},
   "cell_type": "markdown",
   "source": "# Some Evaluation",
   "id": "b8c1e6957009d1a3"
  },
  {
   "metadata": {
    "ExecuteTime": {
     "end_time": "2025-10-14T15:57:25.952336Z",
     "start_time": "2025-10-14T15:57:25.938687Z"
    }
   },
   "cell_type": "code",
   "source": [
    "from sklearn.metrics import classification_report,confusion_matrix\n",
    "import seaborn as sns\n",
    "import matplotlib.pyplot as plt\n",
    "\n",
    "print(classification_report(y_test,pred))"
   ],
   "id": "a621dec70d5a8a01",
   "outputs": [
    {
     "name": "stdout",
     "output_type": "stream",
     "text": [
      "              precision    recall  f1-score   support\n",
      "\n",
      "           0       0.90      0.92      0.91      3812\n",
      "           1       0.90      0.91      0.91      3807\n",
      "           2       0.77      0.68      0.72       890\n",
      "\n",
      "    accuracy                           0.89      8509\n",
      "   macro avg       0.86      0.84      0.84      8509\n",
      "weighted avg       0.89      0.89      0.89      8509\n",
      "\n"
     ]
    }
   ],
   "execution_count": 63
  },
  {
   "metadata": {
    "ExecuteTime": {
     "end_time": "2025-10-14T15:58:01.916610Z",
     "start_time": "2025-10-14T15:58:01.769909Z"
    }
   },
   "cell_type": "code",
   "source": [
    "cf = confusion_matrix(y_test,pred,normalize = 'true')\n",
    "sns.heatmap(cf,annot = True)\n",
    "plt.xlabel('Predicted')\n",
    "plt.ylabel('Actual')"
   ],
   "id": "1a6d0256c738ab32",
   "outputs": [
    {
     "data": {
      "text/plain": [
       "Text(50.722222222222214, 0.5, 'Actual')"
      ]
     },
     "execution_count": 64,
     "metadata": {},
     "output_type": "execute_result"
    },
    {
     "data": {
      "text/plain": [
       "<Figure size 640x480 with 2 Axes>"
      ],
      "image/png": "[encoded data removed]"
     },
     "metadata": {},
     "output_type": "display_data"
    }
   ],
   "execution_count": 64
  },
  {
   "metadata": {},
   "cell_type": "code",
   "outputs": [],
   "execution_count": null,
   "source": "",
   "id": "4528d56bee0b1725"
  }
 ],
 "metadata": {
  "kernelspec": {
   "display_name": "Python 3",
   "language": "python",
   "name": "python3"
  },
  "language_info": {
   "codemirror_mode": {
    "name": "ipython",
    "version": 2
   },
   "file_extension": ".py",
   "mimetype": "text/x-python",
   "name": "python",
   "nbconvert_exporter": "python",
   "pygments_lexer": "ipython2",
   "version": "2.7.6"
  }
 },
 "nbformat": 4,
 "nbformat_minor": 5
}
